{
 "cells": [
  {
   "cell_type": "markdown",
   "id": "aad28d42-01ca-4287-a4d7-37523e58fe55",
   "metadata": {},
   "source": [
    "# Package management is R-like"
   ]
  },
  {
   "cell_type": "code",
   "execution_count": null,
   "id": "0bcc9c35-fe17-4152-b92c-6acbbfd20409",
   "metadata": {},
   "outputs": [],
   "source": [
    "#import Pkg; Pkg.add(\"DataFrames\")\n",
    "#import Pkg; Pkg.add(\"BenchmarkTools\")\n",
    "#import Pkg; Pkg.add(\"Gadfly\")\n",
    "#import Pkg; Pkg.add(\"Distributions\")"
   ]
  },
  {
   "cell_type": "markdown",
   "id": "fd3a8210-eaa9-4f9e-a8f1-622825e60417",
   "metadata": {},
   "source": [
    "https://juliahub.com/ui/Home - CRAN + Posit??"
   ]
  },
  {
   "cell_type": "code",
   "execution_count": null,
   "id": "4eee6bf9",
   "metadata": {},
   "outputs": [],
   "source": [
    "using CSV, DataFrames, Statistics, Plots, BenchmarkTools, Gadfly, Distributions"
   ]
  },
  {
   "cell_type": "markdown",
   "id": "882eff91-d9a0-4534-b2bd-641042b7bf3d",
   "metadata": {},
   "source": [
    "# loading data from csv - again, very familiar..."
   ]
  },
  {
   "cell_type": "code",
   "execution_count": null,
   "id": "32ed4807",
   "metadata": {},
   "outputs": [],
   "source": [
    "diamonds = CSV.read(\"data/diamonds.csv\", DataFrame)"
   ]
  },
  {
   "cell_type": "code",
   "execution_count": null,
   "id": "9f215bcf-1cd6-4397-9757-fa5dea52e924",
   "metadata": {},
   "outputs": [],
   "source": [
    "diamonds"
   ]
  },
  {
   "cell_type": "markdown",
   "id": "99405609-e78a-4ce4-aea0-dc4d2cdae342",
   "metadata": {},
   "source": [
    "# although reading csv isn't particularly speedy"
   ]
  },
  {
   "cell_type": "code",
   "execution_count": null,
   "id": "d4b9a19d-fd84-4f16-9d79-c63a2edbbca9",
   "metadata": {},
   "outputs": [],
   "source": [
    "@benchmark diamonds = CSV.read(\"data/diamonds.csv\", DataFrame)"
   ]
  },
  {
   "cell_type": "markdown",
   "id": "48279700-4201-435a-9d02-6abd588b0ff8",
   "metadata": {},
   "source": [
    "# Looking at parts of tabular data"
   ]
  },
  {
   "cell_type": "code",
   "execution_count": null,
   "id": "f582955f-327b-4660-9aa9-c6714b8f8a0f",
   "metadata": {},
   "outputs": [],
   "source": [
    "diamonds.color"
   ]
  },
  {
   "cell_type": "code",
   "execution_count": null,
   "id": "51920fb2-18e0-43e8-898c-58a05ac9e1a0",
   "metadata": {},
   "outputs": [],
   "source": [
    "diamonds[!, [:2]]"
   ]
  },
  {
   "cell_type": "code",
   "execution_count": null,
   "id": "c7847a7a-ec3a-4d5f-9d43-0011455a829b",
   "metadata": {},
   "outputs": [],
   "source": [
    "diamonds[1,2]"
   ]
  },
  {
   "cell_type": "code",
   "execution_count": null,
   "id": "4f980efd-e858-43a1-8731-4b31d3e47405",
   "metadata": {},
   "outputs": [],
   "source": [
    "diamonds[!, names(diamonds, r\"co\")]"
   ]
  },
  {
   "cell_type": "code",
   "execution_count": null,
   "id": "7b34b08c-1e4d-4e7a-99af-82111da88b86",
   "metadata": {},
   "outputs": [],
   "source": [
    "diamonds[2,:]"
   ]
  },
  {
   "cell_type": "code",
   "execution_count": null,
   "id": "acf53fbd-8142-47b4-89ed-52524cad20e9",
   "metadata": {},
   "outputs": [],
   "source": [
    "names(diamonds, Int)"
   ]
  },
  {
   "cell_type": "markdown",
   "id": "e77877e0-7658-4435-b9f5-20aee19005df",
   "metadata": {},
   "source": [
    "# group and summarise"
   ]
  },
  {
   "cell_type": "code",
   "execution_count": null,
   "id": "c67fdaa6-699a-464b-b4d5-28ef2db18f22",
   "metadata": {},
   "outputs": [],
   "source": [
    "diamond_groups = groupby(diamonds, :cut)"
   ]
  },
  {
   "cell_type": "code",
   "execution_count": null,
   "id": "64e0ab94-24cb-419b-acb1-094d3978c60a",
   "metadata": {},
   "outputs": [],
   "source": [
    "combine(diamond_groups, [:carat, :price] .=> mean; renamecols=false)"
   ]
  },
  {
   "cell_type": "code",
   "execution_count": null,
   "id": "cba2cdac",
   "metadata": {},
   "outputs": [],
   "source": [
    "combine(groupby(diamonds, :cut), [:carat, :price] .=> mean; renamecols=false)"
   ]
  },
  {
   "cell_type": "code",
   "execution_count": null,
   "id": "4a2421ce-ddce-4d83-ad38-b79c8de4d7da",
   "metadata": {},
   "outputs": [],
   "source": [
    "@benchmark combine(groupby(diamonds, :cut), [:carat, :price] .=> mean; renamecols=false)"
   ]
  },
  {
   "cell_type": "markdown",
   "id": "3a4c2429-8a87-45bf-a829-801264937b07",
   "metadata": {},
   "source": [
    "# Plotting something"
   ]
  },
  {
   "cell_type": "code",
   "execution_count": null,
   "id": "1ad221f1",
   "metadata": {},
   "outputs": [],
   "source": [
    "Plots.plot(diamonds.carat, diamonds.price,  seriestype=:scatter)"
   ]
  },
  {
   "cell_type": "code",
   "execution_count": null,
   "id": "0cc82635",
   "metadata": {},
   "outputs": [],
   "source": [
    "#scatter!(diamonds.carat, diamonds.price, label=\"blarn\") # modifies current plot"
   ]
  },
  {
   "cell_type": "code",
   "execution_count": null,
   "id": "7dc61e89",
   "metadata": {},
   "outputs": [],
   "source": [
    "Gadfly.plot(diamonds, xgroup=\"cut\", x=\"carat\", y=\"price\",\n",
    "     Geom.subplot_grid(Geom.point))"
   ]
  },
  {
   "cell_type": "markdown",
   "id": "690e5ef8-03f2-4714-aa1d-e7d9b77de59b",
   "metadata": {},
   "source": [
    "# Something more maths-intensive"
   ]
  },
  {
   "cell_type": "code",
   "execution_count": null,
   "id": "d3673967-0c73-4ca9-9cb4-87f03c6a27d0",
   "metadata": {},
   "outputs": [],
   "source": [
    "a = rand(10^7)\n",
    "sum(a)"
   ]
  },
  {
   "cell_type": "code",
   "execution_count": null,
   "id": "8bddebbd-8c8d-408a-9257-f2525445fd4a",
   "metadata": {},
   "outputs": [],
   "source": [
    "d = Uniform(-0.5, 0.5)\n",
    "runs = 10000\n",
    "x = rand(d, runs)\n",
    "y = rand(d, runs)\n",
    "\n",
    "in_circ(x,y) = x^2 + y^2 <=0.25\n",
    "@benchmark 4 * sum(in_circ.(x, y)) / runs"
   ]
  },
  {
   "cell_type": "code",
   "execution_count": null,
   "id": "03b9efe3-1a3f-46c0-879e-a18dfa022306",
   "metadata": {},
   "outputs": [],
   "source": [
    "d = Uniform(-0.5, 0.5)\n",
    "runs = 10000\n",
    "in_circ(x,y) = x^2 + y^2 <=0.25\n",
    "@benchmark 4 * sum(in_circ.(rand(d, runs), rand(d, runs))) / runs"
   ]
  },
  {
   "cell_type": "markdown",
   "id": "3dbc2518-ba58-4608-a513-cfe5448420c3",
   "metadata": {},
   "source": [
    "# Quirks and interesting bits"
   ]
  },
  {
   "cell_type": "markdown",
   "id": "9dc6b547-b687-4126-906e-9ef48a093199",
   "metadata": {},
   "source": [
    "## dynamic typing"
   ]
  },
  {
   "cell_type": "code",
   "execution_count": null,
   "id": "a455da91-086c-4fbf-a5e9-365c6bed5816",
   "metadata": {},
   "outputs": [],
   "source": [
    "a = 3\n",
    "typeof(a)\n",
    "\n",
    "a = a/2\n",
    "typeof(a)"
   ]
  },
  {
   "cell_type": "markdown",
   "id": "bf148236-f9e0-4de8-a146-2db76db3a18b",
   "metadata": {},
   "source": [
    "## functions"
   ]
  },
  {
   "cell_type": "code",
   "execution_count": null,
   "id": "99b63508-0943-452a-bdf9-1a2f1c06de90",
   "metadata": {},
   "outputs": [],
   "source": [
    "function camel_case(str)\n",
    "    split(str, \"_\") .|> uppercasefirst |> join\n",
    "end\n",
    "\n",
    "camel_case(\"this_is_not_snakey\")"
   ]
  },
  {
   "cell_type": "markdown",
   "id": "0bbb0669-e99a-43a3-9283-5adaecb0d6d2",
   "metadata": {},
   "source": [
    "## Partial application"
   ]
  },
  {
   "cell_type": "code",
   "execution_count": null,
   "id": "047e0552-05ff-43f5-84fb-58e002be6aa5",
   "metadata": {},
   "outputs": [],
   "source": [
    "sm = <(4)\n",
    "sm(3)"
   ]
  },
  {
   "cell_type": "markdown",
   "id": "7e2867b0-d5da-49fd-bd59-c1c39b88cd1f",
   "metadata": {},
   "source": [
    "## mutating functions"
   ]
  },
  {
   "cell_type": "code",
   "execution_count": null,
   "id": "8354471e-d9be-4dea-ac8f-eae172d9e9a3",
   "metadata": {},
   "outputs": [],
   "source": [
    "some_numbers = [2,8,5,4,9,7,5]\n",
    "sort(some_numbers)"
   ]
  },
  {
   "cell_type": "code",
   "execution_count": null,
   "id": "ebef9324-2376-42ef-8b11-48ff002073d5",
   "metadata": {},
   "outputs": [],
   "source": [
    "some_numbers"
   ]
  },
  {
   "cell_type": "code",
   "execution_count": null,
   "id": "1ca40e68-aa98-480d-9950-0e8f538a7f6f",
   "metadata": {},
   "outputs": [],
   "source": [
    "sort!(some_numbers)\n",
    "some_numbers"
   ]
  },
  {
   "cell_type": "markdown",
   "id": "122de4e8-ac0e-4a35-9f57-d4df02b61996",
   "metadata": {},
   "source": [
    "## map / broadcast"
   ]
  },
  {
   "cell_type": "code",
   "execution_count": null,
   "id": "55f04ffe-386c-4f26-a077-0b625e770770",
   "metadata": {},
   "outputs": [],
   "source": [
    "some_names = [\"first_sname\", \"second_snake\", \"third_snake\"]\n",
    "map(camel_case, some_names)"
   ]
  },
  {
   "cell_type": "code",
   "execution_count": null,
   "id": "db38e5e6-a909-4754-adec-1d5ac91b3797",
   "metadata": {},
   "outputs": [],
   "source": [
    "camel_case.(some_names)"
   ]
  },
  {
   "cell_type": "markdown",
   "id": "f03de420-724d-4ca4-9eee-c15d4e9ae814",
   "metadata": {},
   "source": [
    "# starter resources\n",
    "\n",
    "+ [Julia language tutorial](https://github.com/JuliaAcademy/JuliaTutorials/tree/main/introductory-tutorials/intro-to-julia)\n",
    "+ [Julia by example](https://juliabyexample.helpmanual.io/)\n"
   ]
  }
 ],
 "metadata": {
  "kernelspec": {
   "display_name": "Julia 1.9.0",
   "language": "julia",
   "name": "julia-1.9"
  },
  "language_info": {
   "file_extension": ".jl",
   "mimetype": "application/julia",
   "name": "julia",
   "version": "1.9.0"
  }
 },
 "nbformat": 4,
 "nbformat_minor": 5
}
