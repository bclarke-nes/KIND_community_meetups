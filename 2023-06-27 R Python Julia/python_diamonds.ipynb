{
 "cells": [
  {
   "cell_type": "markdown",
   "id": "d6701c78-eb5f-48e3-8bb2-4be1a153289a",
   "metadata": {},
   "source": [
    "# package management\n",
    "1. find packages from PyPI (cf CRAN) - but much, *much*, larger\n",
    "2. install packages using external package-manager e.g. [PIP](https://pypi.org/project/pip/)\n",
    "3. import packages in script - note option to import parts of packages, or abbreviate names\n",
    "4. can also control namespacing\n",
    "    1. import x gives all the functions as x.f()\n",
    "    2. from x import y gives y()\n",
    "    3. from x import * gives y1(), y2(), ..."
   ]
  },
  {
   "cell_type": "code",
   "execution_count": null,
   "id": "6dfb0a8b-e04a-4328-9810-e84d1192f91a",
   "metadata": {},
   "outputs": [],
   "source": [
    "import pandas as pd\n",
    "#import matplotlib.pyplot as plt\n",
    "import seaborn as sns\n",
    "import numpy as np\n",
    "import random"
   ]
  },
  {
   "cell_type": "markdown",
   "id": "4b603aee-6531-4c9d-8e72-74594b9e68e2",
   "metadata": {},
   "source": [
    "# read some data from csv"
   ]
  },
  {
   "cell_type": "code",
   "execution_count": null,
   "id": "1b75f845-5e4e-4230-be3d-124e191b7b95",
   "metadata": {},
   "outputs": [],
   "source": [
    "diamonds_csv = pd.read_csv('data/diamonds.csv')"
   ]
  },
  {
   "cell_type": "code",
   "execution_count": null,
   "id": "531985a1-55a9-4be6-9b81-d0ce4a3f7323",
   "metadata": {},
   "outputs": [],
   "source": [
    "diamonds_csv"
   ]
  },
  {
   "cell_type": "code",
   "execution_count": null,
   "id": "40a0175c",
   "metadata": {},
   "outputs": [],
   "source": [
    "%timeit -r 20 diamonds_csv = pd.read_csv('data/diamonds.csv')"
   ]
  },
  {
   "cell_type": "markdown",
   "id": "e44ee253-a268-4b33-8e2b-49d64710630e",
   "metadata": {},
   "source": [
    "# Looking at parts of tabular data"
   ]
  },
  {
   "cell_type": "code",
   "execution_count": null,
   "id": "eed80891-6c9f-4e79-b85b-061dabc43d91",
   "metadata": {},
   "outputs": [],
   "source": [
    "diamonds_csv[\"color\"] # columns as series"
   ]
  },
  {
   "cell_type": "code",
   "execution_count": null,
   "id": "f0528dce-6e12-4f70-9419-4e7633ce256e",
   "metadata": {},
   "outputs": [],
   "source": [
    "diamonds_csv[[\"cut\"]]"
   ]
  },
  {
   "cell_type": "code",
   "execution_count": null,
   "id": "7853c542-7fd0-4c55-bc71-b341bf94aa34",
   "metadata": {},
   "outputs": [],
   "source": [
    "diamonds_csv.loc[0][1] # 0 indexing"
   ]
  },
  {
   "cell_type": "code",
   "execution_count": null,
   "id": "7ace8430-e74e-406f-852a-3705efa136fe",
   "metadata": {},
   "outputs": [],
   "source": [
    "diamonds_csv.filter(regex='co') # yup, filter to return cols"
   ]
  },
  {
   "cell_type": "code",
   "execution_count": null,
   "id": "49b63f7f-90fc-41dc-8757-95729b1fd91a",
   "metadata": {},
   "outputs": [],
   "source": [
    "diamonds_csv.iloc[1]"
   ]
  },
  {
   "cell_type": "code",
   "execution_count": null,
   "id": "f056d75f-e3e1-4a4a-a7e2-cd60db312341",
   "metadata": {},
   "outputs": [],
   "source": [
    "diamonds_csv.select_dtypes(include=np.number)"
   ]
  },
  {
   "cell_type": "markdown",
   "id": "8242b255-b233-48a1-8861-42dfd5acd278",
   "metadata": {},
   "source": [
    "# group and summarise"
   ]
  },
  {
   "cell_type": "code",
   "execution_count": null,
   "id": "7b077850",
   "metadata": {},
   "outputs": [],
   "source": [
    "diamonds_csv.groupby(\"cut\")[[\"carat\", \"price\"]].mean()"
   ]
  },
  {
   "cell_type": "code",
   "execution_count": null,
   "id": "73284e00-38f3-4ece-b16c-de630b320f30",
   "metadata": {},
   "outputs": [],
   "source": [
    "%timeit -r 20 diamonds_csv.groupby(\"cut\")[[\"carat\", \"price\"]].mean()"
   ]
  },
  {
   "cell_type": "markdown",
   "id": "36ab915c-ae32-46b7-b143-66e84c4a2524",
   "metadata": {},
   "source": [
    "# Plotting something"
   ]
  },
  {
   "cell_type": "code",
   "execution_count": null,
   "id": "1f8b36eb",
   "metadata": {},
   "outputs": [],
   "source": [
    "sns.scatterplot(data=diamonds_csv, x=diamonds_csv['carat'], y=diamonds_csv['price'])"
   ]
  },
  {
   "cell_type": "code",
   "execution_count": null,
   "id": "cc65cdb8",
   "metadata": {},
   "outputs": [],
   "source": [
    "facets = sns.FacetGrid(diamonds_csv, col=\"cut\", row=\"color\")\n",
    "facets.map(sns.scatterplot, \"carat\", \"price\")"
   ]
  },
  {
   "cell_type": "markdown",
   "id": "21d5710c-05b0-4441-9ddb-96e44a2f10cc",
   "metadata": {},
   "source": [
    "# Something more maths-intensive"
   ]
  },
  {
   "cell_type": "code",
   "execution_count": null,
   "id": "29df74ca-aace-4fd8-82fa-ee738e7a9821",
   "metadata": {},
   "outputs": [],
   "source": [
    "%%timeit\n",
    "sum([random.uniform(0,1) for _ in range(10**7)])"
   ]
  },
  {
   "cell_type": "code",
   "execution_count": null,
   "id": "d455c215-e309-433d-83bc-24ad4cc859d7",
   "metadata": {},
   "outputs": [],
   "source": [
    "runs = 10000\n",
    "out = []"
   ]
  },
  {
   "cell_type": "code",
   "execution_count": null,
   "id": "3f00a326-431b-4b47-9388-4273b8428a99",
   "metadata": {},
   "outputs": [],
   "source": [
    "%%timeit\n",
    "for i in range(runs):\n",
    "    out.append(random.uniform(-0.5, 0.5)**2 + random.uniform(-0.5, 0.5)**2 <= 0.25)\n",
    "\n",
    "4 * sum(out) / runs"
   ]
  },
  {
   "cell_type": "code",
   "execution_count": null,
   "id": "694fd6e2-0b54-41e0-96e6-db74c1b813ce",
   "metadata": {},
   "outputs": [],
   "source": [
    "%%timeit\n",
    "for i in range(runs):\n",
    "    out.append(np.random.uniform(-0.5, 0.5)**2 + np.random.uniform(-0.5, 0.5)**2 <= 0.25)\n",
    "\n",
    "4 * sum(out) / runs"
   ]
  },
  {
   "cell_type": "code",
   "execution_count": null,
   "id": "fa8d13e3-f87b-429a-b6d6-2c7b83f2bb5e",
   "metadata": {},
   "outputs": [],
   "source": [
    "def in_circle():\n",
    "    return np.random.uniform(-0.5, 0.5)**2 + np.random.uniform(-0.5, 0.5)**2 <= 0.25"
   ]
  },
  {
   "cell_type": "code",
   "execution_count": null,
   "id": "2b343e4e-981c-464c-9168-46e9ad4b0254",
   "metadata": {},
   "outputs": [],
   "source": [
    "%%timeit\n",
    "4 * sum([in_circle() for _ in range(runs)]) / runs"
   ]
  },
  {
   "cell_type": "markdown",
   "id": "0ede7064-ff42-42f7-941f-2767f1dbf14e",
   "metadata": {},
   "source": [
    "# Classes"
   ]
  },
  {
   "cell_type": "code",
   "execution_count": null,
   "id": "f0091bc7-b3ec-4778-8429-c60a85cb452c",
   "metadata": {},
   "outputs": [],
   "source": [
    "class Dog:\n",
    "    def __init__(self, name, breed, stick_pref=\"short\"):\n",
    "        self.name = name\n",
    "        self.breed = breed\n",
    "        self.stick_pref = stick_pref"
   ]
  },
  {
   "cell_type": "code",
   "execution_count": null,
   "id": "04982cae-b264-46c6-b2f3-9b9627588052",
   "metadata": {},
   "outputs": [],
   "source": [
    "d1 = Dog(\"Clive\", \"Spaniel\")\n",
    "d2 = Dog(\"Wallace\", \"Norwegian duck hound\")"
   ]
  },
  {
   "cell_type": "code",
   "execution_count": null,
   "id": "d24fb465-987e-4f05-9fc8-54bf1570ded8",
   "metadata": {},
   "outputs": [],
   "source": [
    "print(d1.name)\n",
    "print(d1.breed)\n",
    "print(d1.stick_pref)"
   ]
  },
  {
   "cell_type": "code",
   "execution_count": null,
   "id": "cf8ad060-f0f9-46d4-b024-6591a8d24e56",
   "metadata": {},
   "outputs": [],
   "source": [
    "print(d1)"
   ]
  },
  {
   "cell_type": "code",
   "execution_count": null,
   "id": "a4789125-6ff0-462f-a863-ac54c2fa518f",
   "metadata": {},
   "outputs": [],
   "source": [
    "class Dog:\n",
    "    def __init__(self, name, breed, stick_pref=\"short\"):\n",
    "        self.name = name\n",
    "        self.breed = breed\n",
    "        self.stick_pref = stick_pref\n",
    "\n",
    "    def __str__(self):\n",
    "        return f\"{self.name} is a {self.breed} who prefers {self.stick_pref} sticks\""
   ]
  },
  {
   "cell_type": "code",
   "execution_count": null,
   "id": "92e53ad4-6d01-49be-a673-4bb46a107efd",
   "metadata": {},
   "outputs": [],
   "source": [
    "print(d1)"
   ]
  },
  {
   "cell_type": "code",
   "execution_count": null,
   "id": "ad9ce084-19a9-48c3-b38f-948010fd3fe1",
   "metadata": {},
   "outputs": [],
   "source": [
    "d1 = Dog(\"Clive\", \"Spaniel\")\n",
    "d2 = Dog(\"Wallace\", \"Norwegian duck hound\", \"long\")"
   ]
  },
  {
   "cell_type": "code",
   "execution_count": null,
   "id": "dbb5f8d5-098d-41d6-9499-afcb0b56d9b8",
   "metadata": {},
   "outputs": [],
   "source": [
    "print(d2)"
   ]
  },
  {
   "cell_type": "code",
   "execution_count": null,
   "id": "7ee95322-93a5-4243-89bd-9b520280c8c8",
   "metadata": {},
   "outputs": [],
   "source": [
    "class Dog:\n",
    "    def __init__(self, name, breed, stick_pref=\"short\"):\n",
    "        self.name = name\n",
    "        self.breed = breed\n",
    "        self.stick_pref = stick_pref\n",
    "\n",
    "    def __str__(self):\n",
    "        return f\"{self.name} is a {self.breed} who prefers {self.stick_pref} sticks\"\n",
    "    \n",
    "    def sticko(self):\n",
    "        if self.stick_pref==\"short\":\n",
    "            stick = \"====\"\n",
    "        else:\n",
    "            stick = \"============================================\"\n",
    "        return f\"Here's your stick {self.name}: {stick}\""
   ]
  },
  {
   "cell_type": "code",
   "execution_count": null,
   "id": "7bd83780-06a1-47bc-a113-dd292306eb40",
   "metadata": {},
   "outputs": [],
   "source": [
    "d1 = Dog(\"Clive\", \"Spaniel\")\n",
    "d2 = Dog(\"Wallace\", \"Norwegian duck hound\", \"long\")\n",
    "\n",
    "d1.sticko()"
   ]
  },
  {
   "cell_type": "code",
   "execution_count": null,
   "id": "bc242076-6057-4ee6-b4de-d9e1f7a95127",
   "metadata": {},
   "outputs": [],
   "source": [
    "d1.stick_pref = \"long\"\n",
    "d1.sticko()"
   ]
  },
  {
   "cell_type": "markdown",
   "id": "bfff8a73-3d93-4d87-8509-3cb6014cfdff",
   "metadata": {},
   "source": [
    "# List comprehension"
   ]
  },
  {
   "cell_type": "code",
   "execution_count": null,
   "id": "5c7a4d31-ec9a-43aa-a9af-159e798b03e3",
   "metadata": {},
   "outputs": [],
   "source": [
    "[x for x in range(20) if x % 2 == 0 ]"
   ]
  },
  {
   "cell_type": "markdown",
   "id": "29e1a09a-e114-476e-a8f0-d8d369e89c31",
   "metadata": {},
   "source": [
    "# map and lambda"
   ]
  },
  {
   "cell_type": "code",
   "execution_count": null,
   "id": "9e5728eb-f2a4-4ff4-bd54-c88419059fa5",
   "metadata": {},
   "outputs": [],
   "source": [
    "list(map(lambda x: x**2, range(10)))"
   ]
  },
  {
   "cell_type": "markdown",
   "id": "10d422a9-3eed-4488-acad-ea770ee2f1af",
   "metadata": {},
   "source": [
    "# Starter resources\n",
    "\n",
    "+ [The Python Tutorial](https://docs.python.org/3/tutorial/)\n",
    "+ [W3 python](https://www.w3schools.com/python/)"
   ]
  }
 ],
 "metadata": {
  "kernelspec": {
   "display_name": "Python 3 (ipykernel)",
   "language": "python",
   "name": "python3"
  },
  "language_info": {
   "codemirror_mode": {
    "name": "ipython",
    "version": 3
   },
   "file_extension": ".py",
   "mimetype": "text/x-python",
   "name": "python",
   "nbconvert_exporter": "python",
   "pygments_lexer": "ipython3",
   "version": "3.10.11"
  }
 },
 "nbformat": 4,
 "nbformat_minor": 5
}
